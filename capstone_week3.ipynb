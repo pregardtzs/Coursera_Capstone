{
 "cells": [
  {
   "cell_type": "code",
   "execution_count": 33,
   "metadata": {},
   "outputs": [
    {
     "name": "stdout",
     "output_type": "stream",
     "text": [
      "(103, 3)\n"
     ]
    }
   ],
   "source": [
    "import pandas as pd\n",
    "import numpy as np\n",
    "\n",
    "#Read the datas from the wikipedia\n",
    "df = pd.read_html('https://en.wikipedia.org/wiki/List_of_postal_codes_of_Canada:_M')[0]\n",
    "df.columns = ['PostalCode', 'Borough', 'Neighborhood']\n",
    "\n",
    "#drop the rows with Not assigned values in Borough ant the first column, because this contains column names\n",
    "df = df[(df['Borough'] != 'Not assigned')].iloc[1:]\n",
    "\n",
    "#Where Neighborhood is Not assigned then fill with Borough\n",
    "df['Neighborhood'][df['Neighborhood']=='Not assigned'] = df['Borough'] \n",
    "\n",
    "#set column names\n",
    "newpd = pd.DataFrame(columns = ['PostalCode', 'Borough', 'Neighborhood'])\n",
    "\n",
    "#group datas by PostalCode\n",
    "for index, row in df.iterrows():\n",
    "   if newpd.loc[newpd['PostalCode'] == row['PostalCode']].empty:\n",
    "      newpd.loc[len(newpd)] = [row['PostalCode'], row['Borough'], row['Neighborhood']]\n",
    "   else :\n",
    "      select_indices = list(np.where(newpd[\"PostalCode\"] == row['PostalCode'])[0])\n",
    "      newpd.loc[select_indices, 'Neighborhood'] = newpd.loc[select_indices, 'Neighborhood'] + ',' + row['Neighborhood']\n",
    "        \n",
    "df = newpd\n",
    "\n",
    "print(df.shape)\n"
   ]
  }
 ],
 "metadata": {
  "kernelspec": {
   "display_name": "Python 3",
   "language": "python",
   "name": "python3"
  },
  "language_info": {
   "codemirror_mode": {
    "name": "ipython",
    "version": 3
   },
   "file_extension": ".py",
   "mimetype": "text/x-python",
   "name": "python",
   "nbconvert_exporter": "python",
   "pygments_lexer": "ipython3",
   "version": "3.6.6"
  }
 },
 "nbformat": 4,
 "nbformat_minor": 2
}
